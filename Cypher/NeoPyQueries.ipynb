{
 "cells": [
  {
   "cell_type": "code",
   "execution_count": 2,
   "metadata": {},
   "outputs": [
    {
     "name": "stdout",
     "output_type": "stream",
     "text": [
      "Requirement already satisfied: neo4j in /usr/local/anaconda3/lib/python3.8/site-packages (4.2.1)\r\n",
      "Requirement already satisfied: pytz in /usr/local/anaconda3/lib/python3.8/site-packages (from neo4j) (2020.1)\r\n"
     ]
    }
   ],
   "source": [
    "!pip install neo4j"
   ]
  },
  {
   "cell_type": "code",
   "execution_count": 3,
   "metadata": {},
   "outputs": [
    {
     "name": "stdout",
     "output_type": "stream",
     "text": [
      "4.1.1\n"
     ]
    }
   ],
   "source": [
    "from neo4j import __version__ as neo4j_version\n",
    "print(neo4j_version)"
   ]
  },
  {
   "cell_type": "code",
   "execution_count": 4,
   "metadata": {},
   "outputs": [],
   "source": [
    "from neo4j import GraphDatabase\n",
    "class Neo4jConnection:\n",
    "    \n",
    "    def __init__(self, uri, user, pwd):\n",
    "        self.__uri = uri\n",
    "        self.__user = user\n",
    "        self.__pwd = pwd\n",
    "        self.__driver = None\n",
    "        try:\n",
    "            self.__driver = GraphDatabase.driver(self.__uri, auth=(self.__user, self.__pwd))\n",
    "        except Exception as e:\n",
    "            print(\"Failed to create the driver:\", e)\n",
    "        \n",
    "    def close(self):\n",
    "        if self.__driver is not None:\n",
    "            self.__driver.close()\n",
    "        \n",
    "    def query(self, query, db=None):\n",
    "        assert self.__driver is not None, \"Driver not initialized!\"\n",
    "        session = None\n",
    "        response = None\n",
    "        try: \n",
    "            session = self.__driver.session(database=db) if db is not None else self.__driver.session() \n",
    "            response = list(session.run(query))\n",
    "        except Exception as e:\n",
    "            print(\"Query failed:\", e)\n",
    "        finally: \n",
    "            if session is not None:\n",
    "                session.close()\n",
    "        return response"
   ]
  },
  {
   "cell_type": "code",
   "execution_count": 5,
   "metadata": {},
   "outputs": [],
   "source": [
    "conn = Neo4jConnection(uri=\"neo4j://localhost:7687\", user=\"neo4j\", pwd=\"graph\")"
   ]
  },
  {
   "cell_type": "code",
   "execution_count": 8,
   "metadata": {},
   "outputs": [
    {
     "data": {
      "text/plain": [
       "[<Record r=<Relationship id=29549 nodes=(<Node id=0 labels=frozenset({'TEAM_ID'}) properties={'id': 1610612762}>, <Node id=3559 labels=frozenset({'LEAGUE_ID'}) properties={'id': 0}>) type='IN_LEAGUE' properties={}> n1=<Node id=0 labels=frozenset({'TEAM_ID'}) properties={'id': 1610612762}> n2=<Node id=3559 labels=frozenset({'LEAGUE_ID'}) properties={'id': 0}>>,\n",
       " <Record r=<Relationship id=29550 nodes=(<Node id=0 labels=frozenset({'TEAM_ID'}) properties={'id': 1610612762}>, <Node id=3788 labels=frozenset({'CITY'}) properties={'name': 'UTAH'}>) type='IN' properties={}> n1=<Node id=0 labels=frozenset({'TEAM_ID'}) properties={'id': 1610612762}> n2=<Node id=3788 labels=frozenset({'CITY'}) properties={'name': 'UTAH'}>>,\n",
       " <Record r=<Relationship id=29551 nodes=(<Node id=0 labels=frozenset({'TEAM_ID'}) properties={'id': 1610612762}>, <Node id=3789 labels=frozenset({'ARENA'}) properties={'name': 'VIVINT SMART HOME ARENA'}>) type='TO' properties={}> n1=<Node id=0 labels=frozenset({'TEAM_ID'}) properties={'id': 1610612762}> n2=<Node id=3789 labels=frozenset({'ARENA'}) properties={'name': 'VIVINT SMART HOME ARENA'}>>,\n",
       " <Record r=<Relationship id=29552 nodes=(<Node id=0 labels=frozenset({'TEAM_ID'}) properties={'id': 1610612762}>, <Node id=3784 labels=frozenset({'MIN_YEAR'}) properties={'year': 1974}>) type='MIN_YEAR' properties={}> n1=<Node id=0 labels=frozenset({'TEAM_ID'}) properties={'id': 1610612762}> n2=<Node id=3784 labels=frozenset({'MIN_YEAR'}) properties={'year': 1974}>>,\n",
       " <Record r=<Relationship id=29553 nodes=(<Node id=0 labels=frozenset({'TEAM_ID'}) properties={'id': 1610612762}>, <Node id=3561 labels=frozenset({'MAX_YEAR'}) properties={'year': 2019}>) type='MAX_YEAR' properties={}> n1=<Node id=0 labels=frozenset({'TEAM_ID'}) properties={'id': 1610612762}> n2=<Node id=3561 labels=frozenset({'MAX_YEAR'}) properties={'year': 2019}>>]"
      ]
     },
     "execution_count": 8,
     "metadata": {},
     "output_type": "execute_result"
    }
   ],
   "source": [
    "conn.query(\"MATCH (n1)-[r]->(n2) RETURN r, n1, n2 LIMIT 5\")"
   ]
  },
  {
   "cell_type": "code",
   "execution_count": 7,
   "metadata": {},
   "outputs": [
    {
     "data": {
      "text/plain": [
       "[<Record player=<Node id=1000 labels=frozenset({'PLAYER_NAME'}) properties={'name': 'KEVIN DURANT'}> points=26.37535277516474>,\n",
       " <Record player=<Node id=417 labels=frozenset({'PLAYER_NAME'}) properties={'name': 'LEBRON JAMES'}> points=26.11947728686998>,\n",
       " <Record player=<Node id=2233 labels=frozenset({'PLAYER_NAME'}) properties={'name': 'KOBE BRYANT'}> points=24.761343012704163>,\n",
       " <Record player=<Node id=691 labels=frozenset({'PLAYER_NAME'}) properties={'name': 'JAMES HARDEN'}> points=23.909359605911263>,\n",
       " <Record player=<Node id=398 labels=frozenset({'PLAYER_NAME'}) properties={'name': 'LUKA DONCIC'}> points=23.26923076923078>,\n",
       " <Record player=<Node id=753 labels=frozenset({'PLAYER_NAME'}) properties={'name': 'DAMIAN LILLARD'}> points=23.215189873417792>,\n",
       " <Record player=<Node id=956 labels=frozenset({'PLAYER_NAME'}) properties={'name': 'STEPHEN CURRY'}> points=22.733556298773713>,\n",
       " <Record player=<Node id=3462 labels=frozenset({'PLAYER_NAME'}) properties={'name': 'ALLEN IVERSON'}> points=22.581439393939384>,\n",
       " <Record player=<Node id=294 labels=frozenset({'PLAYER_NAME'}) properties={'name': 'TRAE YOUNG'}> points=22.519999999999992>,\n",
       " <Record player=<Node id=9 labels=frozenset({'PLAYER_NAME'}) properties={'name': 'DONOVAN MITCHELL'}> points=22.329218106995874>]"
      ]
     },
     "execution_count": 7,
     "metadata": {},
     "output_type": "execute_result"
    }
   ],
   "source": [
    "conn.query(\"\"\"\n",
    "    MATCH (p:PLAYER_ID)-[:POINTS]->(n:PTS)<-[:IN_GAME_PTS]-(g:GAME_ID)\n",
    "    MATCH (p)-[:HAS_NAME]->(m:PLAYER_NAME)\n",
    "    RETURN m AS player,\n",
    "      AVG(n.points) AS points\n",
    "    ORDER BY points DESC\n",
    "    LIMIT 10\n",
    ";\n",
    "    \"\"\")"
   ]
  },
  {
   "cell_type": "code",
   "execution_count": 12,
   "metadata": {},
   "outputs": [
    {
     "data": {
      "text/plain": [
       "[<Record m=<Node id=504 labels=frozenset({'PLAYER_NAME'}) properties={'name': 'CHRIS PAUL'}> shots=0.4255745341615994 attempted=12.577639751554061 total=229521600>]"
      ]
     },
     "execution_count": 12,
     "metadata": {},
     "output_type": "execute_result"
    }
   ],
   "source": [
    "conn.query(\"\"\"\n",
    "MATCH (p:PLAYER_ID)-[:HAS_NAME]-(m:PLAYER_NAME)\n",
    "WHERE m.name = 'CHRIS PAUL'\n",
    "MATCH (p)-[:FG_ATTEMPTED]->(fga:FGA)\n",
    "MATCH (p)-[:FG_PCT]->(fg:FG_PCT)\n",
    "RETURN m,\n",
    "       AVG(fg.fg_pct) AS shots,\n",
    "       AVG(fga.fg_attempted) AS attempted,\n",
    "       SUM(fga.fg_attempted) AS total\n",
    ";\n",
    "\"\"\")"
   ]
  },
  {
   "cell_type": "code",
   "execution_count": 6,
   "metadata": {},
   "outputs": [
    {
     "data": {
      "text/plain": [
       "[<Record n=<Node id=3650 labels=frozenset({'NICKNAME'}) properties={'name': 'LAKERS'}>>,\n",
       " <Record n=<Node id=3834 labels=frozenset({'NICKNAME'}) properties={'name': 'CAVALIERS'}>>,\n",
       " <Record n=<Node id=3650 labels=frozenset({'NICKNAME'}) properties={'name': 'LAKERS'}>>,\n",
       " <Record n=<Node id=3834 labels=frozenset({'NICKNAME'}) properties={'name': 'CAVALIERS'}>>,\n",
       " <Record n=<Node id=3834 labels=frozenset({'NICKNAME'}) properties={'name': 'CAVALIERS'}>>,\n",
       " <Record n=<Node id=3834 labels=frozenset({'NICKNAME'}) properties={'name': 'CAVALIERS'}>>,\n",
       " <Record n=<Node id=3658 labels=frozenset({'NICKNAME'}) properties={'name': 'HEAT'}>>,\n",
       " <Record n=<Node id=3658 labels=frozenset({'NICKNAME'}) properties={'name': 'HEAT'}>>,\n",
       " <Record n=<Node id=3658 labels=frozenset({'NICKNAME'}) properties={'name': 'HEAT'}>>,\n",
       " <Record n=<Node id=3658 labels=frozenset({'NICKNAME'}) properties={'name': 'HEAT'}>>,\n",
       " <Record n=<Node id=3834 labels=frozenset({'NICKNAME'}) properties={'name': 'CAVALIERS'}>>,\n",
       " <Record n=<Node id=3650 labels=frozenset({'NICKNAME'}) properties={'name': 'LAKERS'}>>,\n",
       " <Record n=<Node id=3834 labels=frozenset({'NICKNAME'}) properties={'name': 'CAVALIERS'}>>,\n",
       " <Record n=<Node id=3650 labels=frozenset({'NICKNAME'}) properties={'name': 'LAKERS'}>>,\n",
       " <Record n=<Node id=3834 labels=frozenset({'NICKNAME'}) properties={'name': 'CAVALIERS'}>>,\n",
       " <Record n=<Node id=3834 labels=frozenset({'NICKNAME'}) properties={'name': 'CAVALIERS'}>>,\n",
       " <Record n=<Node id=3834 labels=frozenset({'NICKNAME'}) properties={'name': 'CAVALIERS'}>>,\n",
       " <Record n=<Node id=3658 labels=frozenset({'NICKNAME'}) properties={'name': 'HEAT'}>>,\n",
       " <Record n=<Node id=3658 labels=frozenset({'NICKNAME'}) properties={'name': 'HEAT'}>>,\n",
       " <Record n=<Node id=3658 labels=frozenset({'NICKNAME'}) properties={'name': 'HEAT'}>>,\n",
       " <Record n=<Node id=3658 labels=frozenset({'NICKNAME'}) properties={'name': 'HEAT'}>>,\n",
       " <Record n=<Node id=3834 labels=frozenset({'NICKNAME'}) properties={'name': 'CAVALIERS'}>>,\n",
       " <Record n=<Node id=3650 labels=frozenset({'NICKNAME'}) properties={'name': 'LAKERS'}>>,\n",
       " <Record n=<Node id=3834 labels=frozenset({'NICKNAME'}) properties={'name': 'CAVALIERS'}>>,\n",
       " <Record n=<Node id=3650 labels=frozenset({'NICKNAME'}) properties={'name': 'LAKERS'}>>,\n",
       " <Record n=<Node id=3834 labels=frozenset({'NICKNAME'}) properties={'name': 'CAVALIERS'}>>,\n",
       " <Record n=<Node id=3834 labels=frozenset({'NICKNAME'}) properties={'name': 'CAVALIERS'}>>,\n",
       " <Record n=<Node id=3834 labels=frozenset({'NICKNAME'}) properties={'name': 'CAVALIERS'}>>,\n",
       " <Record n=<Node id=3658 labels=frozenset({'NICKNAME'}) properties={'name': 'HEAT'}>>,\n",
       " <Record n=<Node id=3658 labels=frozenset({'NICKNAME'}) properties={'name': 'HEAT'}>>,\n",
       " <Record n=<Node id=3658 labels=frozenset({'NICKNAME'}) properties={'name': 'HEAT'}>>,\n",
       " <Record n=<Node id=3658 labels=frozenset({'NICKNAME'}) properties={'name': 'HEAT'}>>,\n",
       " <Record n=<Node id=3834 labels=frozenset({'NICKNAME'}) properties={'name': 'CAVALIERS'}>>,\n",
       " <Record n=<Node id=3650 labels=frozenset({'NICKNAME'}) properties={'name': 'LAKERS'}>>,\n",
       " <Record n=<Node id=3834 labels=frozenset({'NICKNAME'}) properties={'name': 'CAVALIERS'}>>,\n",
       " <Record n=<Node id=3650 labels=frozenset({'NICKNAME'}) properties={'name': 'LAKERS'}>>,\n",
       " <Record n=<Node id=3834 labels=frozenset({'NICKNAME'}) properties={'name': 'CAVALIERS'}>>,\n",
       " <Record n=<Node id=3834 labels=frozenset({'NICKNAME'}) properties={'name': 'CAVALIERS'}>>,\n",
       " <Record n=<Node id=3834 labels=frozenset({'NICKNAME'}) properties={'name': 'CAVALIERS'}>>,\n",
       " <Record n=<Node id=3658 labels=frozenset({'NICKNAME'}) properties={'name': 'HEAT'}>>,\n",
       " <Record n=<Node id=3658 labels=frozenset({'NICKNAME'}) properties={'name': 'HEAT'}>>,\n",
       " <Record n=<Node id=3658 labels=frozenset({'NICKNAME'}) properties={'name': 'HEAT'}>>,\n",
       " <Record n=<Node id=3658 labels=frozenset({'NICKNAME'}) properties={'name': 'HEAT'}>>,\n",
       " <Record n=<Node id=3834 labels=frozenset({'NICKNAME'}) properties={'name': 'CAVALIERS'}>>,\n",
       " <Record n=<Node id=3650 labels=frozenset({'NICKNAME'}) properties={'name': 'LAKERS'}>>,\n",
       " <Record n=<Node id=3834 labels=frozenset({'NICKNAME'}) properties={'name': 'CAVALIERS'}>>,\n",
       " <Record n=<Node id=3650 labels=frozenset({'NICKNAME'}) properties={'name': 'LAKERS'}>>,\n",
       " <Record n=<Node id=3834 labels=frozenset({'NICKNAME'}) properties={'name': 'CAVALIERS'}>>,\n",
       " <Record n=<Node id=3834 labels=frozenset({'NICKNAME'}) properties={'name': 'CAVALIERS'}>>,\n",
       " <Record n=<Node id=3834 labels=frozenset({'NICKNAME'}) properties={'name': 'CAVALIERS'}>>,\n",
       " <Record n=<Node id=3658 labels=frozenset({'NICKNAME'}) properties={'name': 'HEAT'}>>,\n",
       " <Record n=<Node id=3658 labels=frozenset({'NICKNAME'}) properties={'name': 'HEAT'}>>,\n",
       " <Record n=<Node id=3658 labels=frozenset({'NICKNAME'}) properties={'name': 'HEAT'}>>,\n",
       " <Record n=<Node id=3658 labels=frozenset({'NICKNAME'}) properties={'name': 'HEAT'}>>,\n",
       " <Record n=<Node id=3834 labels=frozenset({'NICKNAME'}) properties={'name': 'CAVALIERS'}>>,\n",
       " <Record n=<Node id=3650 labels=frozenset({'NICKNAME'}) properties={'name': 'LAKERS'}>>,\n",
       " <Record n=<Node id=3834 labels=frozenset({'NICKNAME'}) properties={'name': 'CAVALIERS'}>>,\n",
       " <Record n=<Node id=3650 labels=frozenset({'NICKNAME'}) properties={'name': 'LAKERS'}>>,\n",
       " <Record n=<Node id=3834 labels=frozenset({'NICKNAME'}) properties={'name': 'CAVALIERS'}>>,\n",
       " <Record n=<Node id=3834 labels=frozenset({'NICKNAME'}) properties={'name': 'CAVALIERS'}>>,\n",
       " <Record n=<Node id=3834 labels=frozenset({'NICKNAME'}) properties={'name': 'CAVALIERS'}>>,\n",
       " <Record n=<Node id=3658 labels=frozenset({'NICKNAME'}) properties={'name': 'HEAT'}>>,\n",
       " <Record n=<Node id=3658 labels=frozenset({'NICKNAME'}) properties={'name': 'HEAT'}>>,\n",
       " <Record n=<Node id=3658 labels=frozenset({'NICKNAME'}) properties={'name': 'HEAT'}>>,\n",
       " <Record n=<Node id=3658 labels=frozenset({'NICKNAME'}) properties={'name': 'HEAT'}>>,\n",
       " <Record n=<Node id=3834 labels=frozenset({'NICKNAME'}) properties={'name': 'CAVALIERS'}>>,\n",
       " <Record n=<Node id=3650 labels=frozenset({'NICKNAME'}) properties={'name': 'LAKERS'}>>,\n",
       " <Record n=<Node id=3834 labels=frozenset({'NICKNAME'}) properties={'name': 'CAVALIERS'}>>,\n",
       " <Record n=<Node id=3650 labels=frozenset({'NICKNAME'}) properties={'name': 'LAKERS'}>>,\n",
       " <Record n=<Node id=3834 labels=frozenset({'NICKNAME'}) properties={'name': 'CAVALIERS'}>>,\n",
       " <Record n=<Node id=3834 labels=frozenset({'NICKNAME'}) properties={'name': 'CAVALIERS'}>>,\n",
       " <Record n=<Node id=3834 labels=frozenset({'NICKNAME'}) properties={'name': 'CAVALIERS'}>>,\n",
       " <Record n=<Node id=3658 labels=frozenset({'NICKNAME'}) properties={'name': 'HEAT'}>>,\n",
       " <Record n=<Node id=3658 labels=frozenset({'NICKNAME'}) properties={'name': 'HEAT'}>>,\n",
       " <Record n=<Node id=3658 labels=frozenset({'NICKNAME'}) properties={'name': 'HEAT'}>>,\n",
       " <Record n=<Node id=3658 labels=frozenset({'NICKNAME'}) properties={'name': 'HEAT'}>>,\n",
       " <Record n=<Node id=3834 labels=frozenset({'NICKNAME'}) properties={'name': 'CAVALIERS'}>>,\n",
       " <Record n=<Node id=3650 labels=frozenset({'NICKNAME'}) properties={'name': 'LAKERS'}>>,\n",
       " <Record n=<Node id=3834 labels=frozenset({'NICKNAME'}) properties={'name': 'CAVALIERS'}>>,\n",
       " <Record n=<Node id=3650 labels=frozenset({'NICKNAME'}) properties={'name': 'LAKERS'}>>,\n",
       " <Record n=<Node id=3834 labels=frozenset({'NICKNAME'}) properties={'name': 'CAVALIERS'}>>,\n",
       " <Record n=<Node id=3834 labels=frozenset({'NICKNAME'}) properties={'name': 'CAVALIERS'}>>,\n",
       " <Record n=<Node id=3834 labels=frozenset({'NICKNAME'}) properties={'name': 'CAVALIERS'}>>,\n",
       " <Record n=<Node id=3658 labels=frozenset({'NICKNAME'}) properties={'name': 'HEAT'}>>,\n",
       " <Record n=<Node id=3658 labels=frozenset({'NICKNAME'}) properties={'name': 'HEAT'}>>,\n",
       " <Record n=<Node id=3658 labels=frozenset({'NICKNAME'}) properties={'name': 'HEAT'}>>,\n",
       " <Record n=<Node id=3658 labels=frozenset({'NICKNAME'}) properties={'name': 'HEAT'}>>,\n",
       " <Record n=<Node id=3834 labels=frozenset({'NICKNAME'}) properties={'name': 'CAVALIERS'}>>,\n",
       " <Record n=<Node id=3650 labels=frozenset({'NICKNAME'}) properties={'name': 'LAKERS'}>>,\n",
       " <Record n=<Node id=3834 labels=frozenset({'NICKNAME'}) properties={'name': 'CAVALIERS'}>>,\n",
       " <Record n=<Node id=3650 labels=frozenset({'NICKNAME'}) properties={'name': 'LAKERS'}>>,\n",
       " <Record n=<Node id=3834 labels=frozenset({'NICKNAME'}) properties={'name': 'CAVALIERS'}>>,\n",
       " <Record n=<Node id=3834 labels=frozenset({'NICKNAME'}) properties={'name': 'CAVALIERS'}>>,\n",
       " <Record n=<Node id=3834 labels=frozenset({'NICKNAME'}) properties={'name': 'CAVALIERS'}>>,\n",
       " <Record n=<Node id=3658 labels=frozenset({'NICKNAME'}) properties={'name': 'HEAT'}>>,\n",
       " <Record n=<Node id=3658 labels=frozenset({'NICKNAME'}) properties={'name': 'HEAT'}>>,\n",
       " <Record n=<Node id=3658 labels=frozenset({'NICKNAME'}) properties={'name': 'HEAT'}>>,\n",
       " <Record n=<Node id=3658 labels=frozenset({'NICKNAME'}) properties={'name': 'HEAT'}>>,\n",
       " <Record n=<Node id=3834 labels=frozenset({'NICKNAME'}) properties={'name': 'CAVALIERS'}>>,\n",
       " <Record n=<Node id=3650 labels=frozenset({'NICKNAME'}) properties={'name': 'LAKERS'}>>,\n",
       " <Record n=<Node id=3834 labels=frozenset({'NICKNAME'}) properties={'name': 'CAVALIERS'}>>,\n",
       " <Record n=<Node id=3650 labels=frozenset({'NICKNAME'}) properties={'name': 'LAKERS'}>>,\n",
       " <Record n=<Node id=3834 labels=frozenset({'NICKNAME'}) properties={'name': 'CAVALIERS'}>>,\n",
       " <Record n=<Node id=3834 labels=frozenset({'NICKNAME'}) properties={'name': 'CAVALIERS'}>>,\n",
       " <Record n=<Node id=3834 labels=frozenset({'NICKNAME'}) properties={'name': 'CAVALIERS'}>>,\n",
       " <Record n=<Node id=3658 labels=frozenset({'NICKNAME'}) properties={'name': 'HEAT'}>>,\n",
       " <Record n=<Node id=3658 labels=frozenset({'NICKNAME'}) properties={'name': 'HEAT'}>>,\n",
       " <Record n=<Node id=3658 labels=frozenset({'NICKNAME'}) properties={'name': 'HEAT'}>>,\n",
       " <Record n=<Node id=3658 labels=frozenset({'NICKNAME'}) properties={'name': 'HEAT'}>>,\n",
       " <Record n=<Node id=3834 labels=frozenset({'NICKNAME'}) properties={'name': 'CAVALIERS'}>>,\n",
       " <Record n=<Node id=3650 labels=frozenset({'NICKNAME'}) properties={'name': 'LAKERS'}>>,\n",
       " <Record n=<Node id=3834 labels=frozenset({'NICKNAME'}) properties={'name': 'CAVALIERS'}>>,\n",
       " <Record n=<Node id=3650 labels=frozenset({'NICKNAME'}) properties={'name': 'LAKERS'}>>,\n",
       " <Record n=<Node id=3834 labels=frozenset({'NICKNAME'}) properties={'name': 'CAVALIERS'}>>,\n",
       " <Record n=<Node id=3834 labels=frozenset({'NICKNAME'}) properties={'name': 'CAVALIERS'}>>,\n",
       " <Record n=<Node id=3834 labels=frozenset({'NICKNAME'}) properties={'name': 'CAVALIERS'}>>,\n",
       " <Record n=<Node id=3658 labels=frozenset({'NICKNAME'}) properties={'name': 'HEAT'}>>,\n",
       " <Record n=<Node id=3658 labels=frozenset({'NICKNAME'}) properties={'name': 'HEAT'}>>,\n",
       " <Record n=<Node id=3658 labels=frozenset({'NICKNAME'}) properties={'name': 'HEAT'}>>,\n",
       " <Record n=<Node id=3658 labels=frozenset({'NICKNAME'}) properties={'name': 'HEAT'}>>,\n",
       " <Record n=<Node id=3834 labels=frozenset({'NICKNAME'}) properties={'name': 'CAVALIERS'}>>]"
      ]
     },
     "execution_count": 6,
     "metadata": {},
     "output_type": "execute_result"
    }
   ],
   "source": [
    "conn.query(\"MATCH (m:PLAYER_NAME {name:'LEBRON JAMES'}) MATCH (p:PLAYER_ID)-[:HAS_NAME]->(m) MATCH (t:TEAM_ID)-[:HAS_NICKNAME]->(n:NICKNAME) MATCH (p)-[:PLAYS_AT]->(t) RETURN n\")"
   ]
  },
  {
   "cell_type": "code",
   "execution_count": 10,
   "metadata": {},
   "outputs": [
    {
     "data": {
      "text/plain": [
       "[<Record player=<Node id=1862 labels=frozenset({'PLAYER_NAME'}) properties={'name': 'CHRIS JOHNSON'}> count=18>,\n",
       " <Record player=<Node id=612 labels=frozenset({'PLAYER_NAME'}) properties={'name': 'ISH SMITH'}> count=17>,\n",
       " <Record player=<Node id=1361 labels=frozenset({'PLAYER_NAME'}) properties={'name': 'COREY BREWER'}> count=16>,\n",
       " <Record player=<Node id=346 labels=frozenset({'PLAYER_NAME'}) properties={'name': 'GARRETT TEMPLE'}> count=16>,\n",
       " <Record player=<Node id=92 labels=frozenset({'PLAYER_NAME'}) properties={'name': 'ERSAN ILYASOVA'}> count=15>,\n",
       " <Record player=<Node id=86 labels=frozenset({'PLAYER_NAME'}) properties={'name': 'WESLEY MATTHEWS'}> count=15>,\n",
       " <Record player=<Node id=769 labels=frozenset({'PLAYER_NAME'}) properties={'name': 'ANTHONY TOLLIVER'}> count=14>,\n",
       " <Record player=<Node id=1367 labels=frozenset({'PLAYER_NAME'}) properties={'name': 'JERRYD BAYLESS'}> count=14>,\n",
       " <Record player=<Node id=560 labels=frozenset({'PLAYER_NAME'}) properties={'name': 'D.J. AUGUSTIN'}> count=14>,\n",
       " <Record player=<Node id=414 labels=frozenset({'PLAYER_NAME'}) properties={'name': 'COURTNEY LEE'}> count=14>]"
      ]
     },
     "execution_count": 10,
     "metadata": {},
     "output_type": "execute_result"
    }
   ],
   "source": [
    "conn.query(\"\"\"\n",
    "MATCH (p)-[:HAS_NAME]->(m:PLAYER_NAME)\n",
    "RETURN m AS player, COUNT(p) AS count\n",
    "ORDER BY count DESC\n",
    "LIMIT 10\n",
    ";\n",
    "\"\"\")"
   ]
  },
  {
   "cell_type": "code",
   "execution_count": 11,
   "metadata": {},
   "outputs": [
    {
     "data": {
      "text/plain": [
       "[<Record team=<Node id=3618 labels=frozenset({'NICKNAME'}) properties={'name': 'NUGGETS'}> fg3=0.3483071808510635>]"
      ]
     },
     "execution_count": 11,
     "metadata": {},
     "output_type": "execute_result"
    }
   ],
   "source": [
    "conn.query(\"\"\"\n",
    "MATCH (g:GAME_ID)-[:TEAM_HOME]->(t:TEAM_ID)-[:HAS_NICKNAME]->(n:NICKNAME {name:'NUGGETS'})\n",
    "MATCH (g)-[:HAS_FG3_H]->(fg:FG3_PCT_home)\n",
    "RETURN n AS team,\n",
    "      AVG(fg.fg3_pct_H) AS fg3\n",
    ";\n",
    "\"\"\")"
   ]
  },
  {
   "cell_type": "code",
   "execution_count": 8,
   "metadata": {},
   "outputs": [
    {
     "data": {
      "text/plain": [
       "[<Record n=<Node id=3650 labels=frozenset({'NICKNAME'}) properties={'name': 'LAKERS'}>>,\n",
       " <Record n=<Node id=3834 labels=frozenset({'NICKNAME'}) properties={'name': 'CAVALIERS'}>>,\n",
       " <Record n=<Node id=3650 labels=frozenset({'NICKNAME'}) properties={'name': 'LAKERS'}>>,\n",
       " <Record n=<Node id=3834 labels=frozenset({'NICKNAME'}) properties={'name': 'CAVALIERS'}>>,\n",
       " <Record n=<Node id=3834 labels=frozenset({'NICKNAME'}) properties={'name': 'CAVALIERS'}>>,\n",
       " <Record n=<Node id=3834 labels=frozenset({'NICKNAME'}) properties={'name': 'CAVALIERS'}>>,\n",
       " <Record n=<Node id=3658 labels=frozenset({'NICKNAME'}) properties={'name': 'HEAT'}>>,\n",
       " <Record n=<Node id=3658 labels=frozenset({'NICKNAME'}) properties={'name': 'HEAT'}>>,\n",
       " <Record n=<Node id=3658 labels=frozenset({'NICKNAME'}) properties={'name': 'HEAT'}>>,\n",
       " <Record n=<Node id=3658 labels=frozenset({'NICKNAME'}) properties={'name': 'HEAT'}>>,\n",
       " <Record n=<Node id=3834 labels=frozenset({'NICKNAME'}) properties={'name': 'CAVALIERS'}>>,\n",
       " <Record n=<Node id=3650 labels=frozenset({'NICKNAME'}) properties={'name': 'LAKERS'}>>,\n",
       " <Record n=<Node id=3834 labels=frozenset({'NICKNAME'}) properties={'name': 'CAVALIERS'}>>,\n",
       " <Record n=<Node id=3650 labels=frozenset({'NICKNAME'}) properties={'name': 'LAKERS'}>>,\n",
       " <Record n=<Node id=3834 labels=frozenset({'NICKNAME'}) properties={'name': 'CAVALIERS'}>>,\n",
       " <Record n=<Node id=3834 labels=frozenset({'NICKNAME'}) properties={'name': 'CAVALIERS'}>>,\n",
       " <Record n=<Node id=3834 labels=frozenset({'NICKNAME'}) properties={'name': 'CAVALIERS'}>>,\n",
       " <Record n=<Node id=3658 labels=frozenset({'NICKNAME'}) properties={'name': 'HEAT'}>>,\n",
       " <Record n=<Node id=3658 labels=frozenset({'NICKNAME'}) properties={'name': 'HEAT'}>>,\n",
       " <Record n=<Node id=3658 labels=frozenset({'NICKNAME'}) properties={'name': 'HEAT'}>>,\n",
       " <Record n=<Node id=3658 labels=frozenset({'NICKNAME'}) properties={'name': 'HEAT'}>>,\n",
       " <Record n=<Node id=3834 labels=frozenset({'NICKNAME'}) properties={'name': 'CAVALIERS'}>>,\n",
       " <Record n=<Node id=3650 labels=frozenset({'NICKNAME'}) properties={'name': 'LAKERS'}>>,\n",
       " <Record n=<Node id=3834 labels=frozenset({'NICKNAME'}) properties={'name': 'CAVALIERS'}>>,\n",
       " <Record n=<Node id=3650 labels=frozenset({'NICKNAME'}) properties={'name': 'LAKERS'}>>,\n",
       " <Record n=<Node id=3834 labels=frozenset({'NICKNAME'}) properties={'name': 'CAVALIERS'}>>,\n",
       " <Record n=<Node id=3834 labels=frozenset({'NICKNAME'}) properties={'name': 'CAVALIERS'}>>,\n",
       " <Record n=<Node id=3834 labels=frozenset({'NICKNAME'}) properties={'name': 'CAVALIERS'}>>,\n",
       " <Record n=<Node id=3658 labels=frozenset({'NICKNAME'}) properties={'name': 'HEAT'}>>,\n",
       " <Record n=<Node id=3658 labels=frozenset({'NICKNAME'}) properties={'name': 'HEAT'}>>,\n",
       " <Record n=<Node id=3658 labels=frozenset({'NICKNAME'}) properties={'name': 'HEAT'}>>,\n",
       " <Record n=<Node id=3658 labels=frozenset({'NICKNAME'}) properties={'name': 'HEAT'}>>,\n",
       " <Record n=<Node id=3834 labels=frozenset({'NICKNAME'}) properties={'name': 'CAVALIERS'}>>,\n",
       " <Record n=<Node id=3650 labels=frozenset({'NICKNAME'}) properties={'name': 'LAKERS'}>>,\n",
       " <Record n=<Node id=3834 labels=frozenset({'NICKNAME'}) properties={'name': 'CAVALIERS'}>>,\n",
       " <Record n=<Node id=3650 labels=frozenset({'NICKNAME'}) properties={'name': 'LAKERS'}>>,\n",
       " <Record n=<Node id=3834 labels=frozenset({'NICKNAME'}) properties={'name': 'CAVALIERS'}>>,\n",
       " <Record n=<Node id=3834 labels=frozenset({'NICKNAME'}) properties={'name': 'CAVALIERS'}>>,\n",
       " <Record n=<Node id=3834 labels=frozenset({'NICKNAME'}) properties={'name': 'CAVALIERS'}>>,\n",
       " <Record n=<Node id=3658 labels=frozenset({'NICKNAME'}) properties={'name': 'HEAT'}>>,\n",
       " <Record n=<Node id=3658 labels=frozenset({'NICKNAME'}) properties={'name': 'HEAT'}>>,\n",
       " <Record n=<Node id=3658 labels=frozenset({'NICKNAME'}) properties={'name': 'HEAT'}>>,\n",
       " <Record n=<Node id=3658 labels=frozenset({'NICKNAME'}) properties={'name': 'HEAT'}>>,\n",
       " <Record n=<Node id=3834 labels=frozenset({'NICKNAME'}) properties={'name': 'CAVALIERS'}>>,\n",
       " <Record n=<Node id=3650 labels=frozenset({'NICKNAME'}) properties={'name': 'LAKERS'}>>,\n",
       " <Record n=<Node id=3834 labels=frozenset({'NICKNAME'}) properties={'name': 'CAVALIERS'}>>,\n",
       " <Record n=<Node id=3650 labels=frozenset({'NICKNAME'}) properties={'name': 'LAKERS'}>>,\n",
       " <Record n=<Node id=3834 labels=frozenset({'NICKNAME'}) properties={'name': 'CAVALIERS'}>>,\n",
       " <Record n=<Node id=3834 labels=frozenset({'NICKNAME'}) properties={'name': 'CAVALIERS'}>>,\n",
       " <Record n=<Node id=3834 labels=frozenset({'NICKNAME'}) properties={'name': 'CAVALIERS'}>>,\n",
       " <Record n=<Node id=3658 labels=frozenset({'NICKNAME'}) properties={'name': 'HEAT'}>>,\n",
       " <Record n=<Node id=3658 labels=frozenset({'NICKNAME'}) properties={'name': 'HEAT'}>>,\n",
       " <Record n=<Node id=3658 labels=frozenset({'NICKNAME'}) properties={'name': 'HEAT'}>>,\n",
       " <Record n=<Node id=3658 labels=frozenset({'NICKNAME'}) properties={'name': 'HEAT'}>>,\n",
       " <Record n=<Node id=3834 labels=frozenset({'NICKNAME'}) properties={'name': 'CAVALIERS'}>>,\n",
       " <Record n=<Node id=3650 labels=frozenset({'NICKNAME'}) properties={'name': 'LAKERS'}>>,\n",
       " <Record n=<Node id=3834 labels=frozenset({'NICKNAME'}) properties={'name': 'CAVALIERS'}>>,\n",
       " <Record n=<Node id=3650 labels=frozenset({'NICKNAME'}) properties={'name': 'LAKERS'}>>,\n",
       " <Record n=<Node id=3834 labels=frozenset({'NICKNAME'}) properties={'name': 'CAVALIERS'}>>,\n",
       " <Record n=<Node id=3834 labels=frozenset({'NICKNAME'}) properties={'name': 'CAVALIERS'}>>,\n",
       " <Record n=<Node id=3834 labels=frozenset({'NICKNAME'}) properties={'name': 'CAVALIERS'}>>,\n",
       " <Record n=<Node id=3658 labels=frozenset({'NICKNAME'}) properties={'name': 'HEAT'}>>,\n",
       " <Record n=<Node id=3658 labels=frozenset({'NICKNAME'}) properties={'name': 'HEAT'}>>,\n",
       " <Record n=<Node id=3658 labels=frozenset({'NICKNAME'}) properties={'name': 'HEAT'}>>,\n",
       " <Record n=<Node id=3658 labels=frozenset({'NICKNAME'}) properties={'name': 'HEAT'}>>,\n",
       " <Record n=<Node id=3834 labels=frozenset({'NICKNAME'}) properties={'name': 'CAVALIERS'}>>,\n",
       " <Record n=<Node id=3650 labels=frozenset({'NICKNAME'}) properties={'name': 'LAKERS'}>>,\n",
       " <Record n=<Node id=3834 labels=frozenset({'NICKNAME'}) properties={'name': 'CAVALIERS'}>>,\n",
       " <Record n=<Node id=3650 labels=frozenset({'NICKNAME'}) properties={'name': 'LAKERS'}>>,\n",
       " <Record n=<Node id=3834 labels=frozenset({'NICKNAME'}) properties={'name': 'CAVALIERS'}>>,\n",
       " <Record n=<Node id=3834 labels=frozenset({'NICKNAME'}) properties={'name': 'CAVALIERS'}>>,\n",
       " <Record n=<Node id=3834 labels=frozenset({'NICKNAME'}) properties={'name': 'CAVALIERS'}>>,\n",
       " <Record n=<Node id=3658 labels=frozenset({'NICKNAME'}) properties={'name': 'HEAT'}>>,\n",
       " <Record n=<Node id=3658 labels=frozenset({'NICKNAME'}) properties={'name': 'HEAT'}>>,\n",
       " <Record n=<Node id=3658 labels=frozenset({'NICKNAME'}) properties={'name': 'HEAT'}>>,\n",
       " <Record n=<Node id=3658 labels=frozenset({'NICKNAME'}) properties={'name': 'HEAT'}>>,\n",
       " <Record n=<Node id=3834 labels=frozenset({'NICKNAME'}) properties={'name': 'CAVALIERS'}>>,\n",
       " <Record n=<Node id=3650 labels=frozenset({'NICKNAME'}) properties={'name': 'LAKERS'}>>,\n",
       " <Record n=<Node id=3834 labels=frozenset({'NICKNAME'}) properties={'name': 'CAVALIERS'}>>,\n",
       " <Record n=<Node id=3650 labels=frozenset({'NICKNAME'}) properties={'name': 'LAKERS'}>>,\n",
       " <Record n=<Node id=3834 labels=frozenset({'NICKNAME'}) properties={'name': 'CAVALIERS'}>>,\n",
       " <Record n=<Node id=3834 labels=frozenset({'NICKNAME'}) properties={'name': 'CAVALIERS'}>>,\n",
       " <Record n=<Node id=3834 labels=frozenset({'NICKNAME'}) properties={'name': 'CAVALIERS'}>>,\n",
       " <Record n=<Node id=3658 labels=frozenset({'NICKNAME'}) properties={'name': 'HEAT'}>>,\n",
       " <Record n=<Node id=3658 labels=frozenset({'NICKNAME'}) properties={'name': 'HEAT'}>>,\n",
       " <Record n=<Node id=3658 labels=frozenset({'NICKNAME'}) properties={'name': 'HEAT'}>>,\n",
       " <Record n=<Node id=3658 labels=frozenset({'NICKNAME'}) properties={'name': 'HEAT'}>>,\n",
       " <Record n=<Node id=3834 labels=frozenset({'NICKNAME'}) properties={'name': 'CAVALIERS'}>>,\n",
       " <Record n=<Node id=3650 labels=frozenset({'NICKNAME'}) properties={'name': 'LAKERS'}>>,\n",
       " <Record n=<Node id=3834 labels=frozenset({'NICKNAME'}) properties={'name': 'CAVALIERS'}>>,\n",
       " <Record n=<Node id=3650 labels=frozenset({'NICKNAME'}) properties={'name': 'LAKERS'}>>,\n",
       " <Record n=<Node id=3834 labels=frozenset({'NICKNAME'}) properties={'name': 'CAVALIERS'}>>,\n",
       " <Record n=<Node id=3834 labels=frozenset({'NICKNAME'}) properties={'name': 'CAVALIERS'}>>,\n",
       " <Record n=<Node id=3834 labels=frozenset({'NICKNAME'}) properties={'name': 'CAVALIERS'}>>,\n",
       " <Record n=<Node id=3658 labels=frozenset({'NICKNAME'}) properties={'name': 'HEAT'}>>,\n",
       " <Record n=<Node id=3658 labels=frozenset({'NICKNAME'}) properties={'name': 'HEAT'}>>,\n",
       " <Record n=<Node id=3658 labels=frozenset({'NICKNAME'}) properties={'name': 'HEAT'}>>,\n",
       " <Record n=<Node id=3658 labels=frozenset({'NICKNAME'}) properties={'name': 'HEAT'}>>,\n",
       " <Record n=<Node id=3834 labels=frozenset({'NICKNAME'}) properties={'name': 'CAVALIERS'}>>,\n",
       " <Record n=<Node id=3650 labels=frozenset({'NICKNAME'}) properties={'name': 'LAKERS'}>>,\n",
       " <Record n=<Node id=3834 labels=frozenset({'NICKNAME'}) properties={'name': 'CAVALIERS'}>>,\n",
       " <Record n=<Node id=3650 labels=frozenset({'NICKNAME'}) properties={'name': 'LAKERS'}>>,\n",
       " <Record n=<Node id=3834 labels=frozenset({'NICKNAME'}) properties={'name': 'CAVALIERS'}>>,\n",
       " <Record n=<Node id=3834 labels=frozenset({'NICKNAME'}) properties={'name': 'CAVALIERS'}>>,\n",
       " <Record n=<Node id=3834 labels=frozenset({'NICKNAME'}) properties={'name': 'CAVALIERS'}>>,\n",
       " <Record n=<Node id=3658 labels=frozenset({'NICKNAME'}) properties={'name': 'HEAT'}>>,\n",
       " <Record n=<Node id=3658 labels=frozenset({'NICKNAME'}) properties={'name': 'HEAT'}>>,\n",
       " <Record n=<Node id=3658 labels=frozenset({'NICKNAME'}) properties={'name': 'HEAT'}>>,\n",
       " <Record n=<Node id=3658 labels=frozenset({'NICKNAME'}) properties={'name': 'HEAT'}>>,\n",
       " <Record n=<Node id=3834 labels=frozenset({'NICKNAME'}) properties={'name': 'CAVALIERS'}>>,\n",
       " <Record n=<Node id=3650 labels=frozenset({'NICKNAME'}) properties={'name': 'LAKERS'}>>,\n",
       " <Record n=<Node id=3834 labels=frozenset({'NICKNAME'}) properties={'name': 'CAVALIERS'}>>,\n",
       " <Record n=<Node id=3650 labels=frozenset({'NICKNAME'}) properties={'name': 'LAKERS'}>>,\n",
       " <Record n=<Node id=3834 labels=frozenset({'NICKNAME'}) properties={'name': 'CAVALIERS'}>>,\n",
       " <Record n=<Node id=3834 labels=frozenset({'NICKNAME'}) properties={'name': 'CAVALIERS'}>>,\n",
       " <Record n=<Node id=3834 labels=frozenset({'NICKNAME'}) properties={'name': 'CAVALIERS'}>>,\n",
       " <Record n=<Node id=3658 labels=frozenset({'NICKNAME'}) properties={'name': 'HEAT'}>>,\n",
       " <Record n=<Node id=3658 labels=frozenset({'NICKNAME'}) properties={'name': 'HEAT'}>>,\n",
       " <Record n=<Node id=3658 labels=frozenset({'NICKNAME'}) properties={'name': 'HEAT'}>>,\n",
       " <Record n=<Node id=3658 labels=frozenset({'NICKNAME'}) properties={'name': 'HEAT'}>>,\n",
       " <Record n=<Node id=3834 labels=frozenset({'NICKNAME'}) properties={'name': 'CAVALIERS'}>>]"
      ]
     },
     "execution_count": 8,
     "metadata": {},
     "output_type": "execute_result"
    }
   ],
   "source": [
    "conn.query(\"\"\"\n",
    "MATCH (m:PLAYER_NAME {name:'LEBRON JAMES'})\n",
    "MATCH (p:PLAYER_ID)-[:HAS_NAME]->(m)\n",
    "MATCH (t:TEAM_ID)-[:HAS_NICKNAME]->(n:NICKNAME)\n",
    "MATCH (p)-[:PLAYS_AT]->(t)\n",
    "RETURN n\n",
    ";\n",
    "\"\"\")"
   ]
  },
  {
   "cell_type": "code",
   "execution_count": 9,
   "metadata": {},
   "outputs": [
    {
     "data": {
      "text/plain": [
       "[<Record player=<Node id=417 labels=frozenset({'PLAYER_NAME'}) properties={'name': 'LEBRON JAMES'}> count=16610>,\n",
       " <Record player=<Node id=747 labels=frozenset({'PLAYER_NAME'}) properties={'name': 'CARMELO ANTHONY'}> count=14328>,\n",
       " <Record player=<Node id=930 labels=frozenset({'PLAYER_NAME'}) properties={'name': 'PAU GASOL'}> count=13620>,\n",
       " <Record player=<Node id=1128 labels=frozenset({'PLAYER_NAME'}) properties={'name': 'JOE JOHNSON'}> count=13260>,\n",
       " <Record player=<Node id=435 labels=frozenset({'PLAYER_NAME'}) properties={'name': 'DWIGHT HOWARD'}> count=12716>]"
      ]
     },
     "execution_count": 9,
     "metadata": {},
     "output_type": "execute_result"
    }
   ],
   "source": [
    "conn.query(\"\"\"\n",
    "MATCH (p:PLAYER_ID)-[:START_POS]->(s:START_POSITION)\n",
    "WHERE s.start_pos <> '-'\n",
    "MATCH (p)-[:HAS_NAME]->(m:PLAYER_NAME)\n",
    "RETURN m AS player,\n",
    "       COUNT(p) AS count\n",
    "ORDER BY count DESC\n",
    "LIMIT 5\n",
    ";\n",
    "\"\"\")"
   ]
  }
 ],
 "metadata": {
  "kernelspec": {
   "display_name": "Python 3",
   "language": "python",
   "name": "python3"
  },
  "language_info": {
   "codemirror_mode": {
    "name": "ipython",
    "version": 3
   },
   "file_extension": ".py",
   "mimetype": "text/x-python",
   "name": "python",
   "nbconvert_exporter": "python",
   "pygments_lexer": "ipython3",
   "version": "3.7.4"
  }
 },
 "nbformat": 4,
 "nbformat_minor": 4
}
