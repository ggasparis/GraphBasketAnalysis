{
 "cells": [
  {
   "cell_type": "raw",
   "metadata": {
    "lines_to_next_cell": 0
   },
   "source": [
    "---\n",
    "title: \"Data Exploration\"\n",
    "output: html_notebook\n",
    "---"
   ]
  },
  {
   "cell_type": "markdown",
   "metadata": {
    "lines_to_next_cell": 0
   },
   "source": [
    "## Nba data analysis\n",
    "\n",
    "Analyze the nba dataset following the steps below.\n",
    "\n",
    "### Load the main packages\n",
    "The main package ```tidyverse``` contains the ```ggplot``` and ```dplyr``` libraries which have our main functions."
   ]
  },
  {
   "cell_type": "code",
   "execution_count": null,
   "metadata": {
    "lines_to_next_cell": 0
   },
   "outputs": [],
   "source": [
    "library(tidyverse)"
   ]
  },
  {
   "cell_type": "markdown",
   "metadata": {
    "lines_to_next_cell": 0
   },
   "source": [
    "### Load data"
   ]
  },
  {
   "cell_type": "code",
   "execution_count": null,
   "metadata": {},
   "outputs": [],
   "source": [
    "ranking = read.csv(\"/Users/georgegasparis/GitHub/GraphBasketAnalysis/Data/ranking.csv\")\n",
    "teams = read.csv(\"/Users/georgegasparis/GitHub/GraphBasketAnalysis/Data/teams.csv\")\n",
    "player = read.csv(\"/Users/georgegasparis/GitHub/GraphBasketAnalysis/Data/players.csv\")\n",
    "games = read.csv(\"/Users/georgegasparis/GitHub/GraphBasketAnalysis/Data/games.csv\")\n",
    "games_details = read.csv(\"/Users/georgegasparis/GitHub/GraphBasketAnalysis/Data/games_details.csv\")"
   ]
  },
  {
   "cell_type": "markdown",
   "metadata": {
    "lines_to_next_cell": 0
   },
   "source": [
    "### Overview\n",
    "A quick dataset overview on the first 10 rows. The function ```head``` allows us to see the first 6 rows by default."
   ]
  },
  {
   "cell_type": "code",
   "execution_count": null,
   "metadata": {
    "lines_to_next_cell": 0
   },
   "outputs": [],
   "source": [
    "head(games_details, 10)"
   ]
  },
  {
   "cell_type": "markdown",
   "metadata": {},
   "source": [
    "### Dimensions\n",
    "The functions ```dim``` displays the dimension of the table and function ```glimpse```, from ```dplyr``` package, displays a vertical preview of the dataset. "
   ]
  },
  {
   "cell_type": "code",
   "execution_count": null,
   "metadata": {
    "lines_to_next_cell": 0
   },
   "outputs": [],
   "source": [
    "dim(games_details)\n",
    "glimpse(games_details)"
   ]
  },
  {
   "cell_type": "markdown",
   "metadata": {
    "lines_to_next_cell": 0
   },
   "source": [
    "### Data summary\n",
    "```Summary``` function shows each column, data type and other attributes. It's useful as we're dealing with a numeric dataset. For all the attributes it displays min, 1st quartile, median, mean, 3rd quartile and max values.\n",
    "```{r}\n",
    "summary(games_details)\n",
    "```\n",
    "\n",
    "```Skim``` function from ```skimr``` package displays the same variable but also missing values, more quantile information and an inline histogram for each variable.\n",
    "```{r}\n",
    "library(skimr)\n",
    "skim(games_details)\n",
    "```\n",
    "### Data Profiling Report\n",
    "Finally with the ```create_report``` function from the DataExplorer package, we get a full data profile of our data frame with just this one line of code. The function generate the \"report.html\" file which opens up in a browser tab. "
   ]
  },
  {
   "cell_type": "code",
   "execution_count": null,
   "metadata": {
    "lines_to_next_cell": 0
   },
   "outputs": [],
   "source": [
    "library(DataExplorer)\n",
    "DataExplorer::create_report(games_details)"
   ]
  },
  {
   "cell_type": "markdown",
   "metadata": {
    "lines_to_next_cell": 0
   },
   "source": [
    "Below we run the functions that are included in the report above which is only locally accessible.\n",
    "First we can see the structure of the dataset with a quick"
   ]
  },
  {
   "cell_type": "code",
   "execution_count": null,
   "metadata": {
    "lines_to_next_cell": 0
   },
   "outputs": [],
   "source": [
    "plot_str(games_details)"
   ]
  },
  {
   "cell_type": "markdown",
   "metadata": {
    "lines_to_next_cell": 0
   },
   "source": [
    "Table visualization with lighting using the funtion ```plot_intro```"
   ]
  },
  {
   "cell_type": "code",
   "execution_count": null,
   "metadata": {
    "lines_to_next_cell": 0
   },
   "outputs": [],
   "source": [
    "plot_intro(games_details)"
   ]
  },
  {
   "cell_type": "markdown",
   "metadata": {
    "lines_to_next_cell": 0
   },
   "source": [
    "#### Missing values\n",
    "Check for missing values using the function ```plot_missing```. We see that there isn't a variable with such missing values that needs to be removed. In that case we should use the ```drop_columns``` function."
   ]
  },
  {
   "cell_type": "code",
   "execution_count": null,
   "metadata": {
    "lines_to_next_cell": 0
   },
   "outputs": [],
   "source": [
    "plot_missing(games_details)"
   ]
  },
  {
   "cell_type": "markdown",
   "metadata": {
    "lines_to_next_cell": 0
   },
   "source": [
    "#### Bar charts\n",
    "To visualize frequency distributions for all discrete features using the ```plot_bar``` function."
   ]
  },
  {
   "cell_type": "code",
   "execution_count": null,
   "metadata": {
    "lines_to_next_cell": 0
   },
   "outputs": [],
   "source": [
    "plot_bar(games_details)"
   ]
  },
  {
   "cell_type": "markdown",
   "metadata": {
    "lines_to_next_cell": 0
   },
   "source": [
    "#### Histograms"
   ]
  },
  {
   "cell_type": "code",
   "execution_count": null,
   "metadata": {
    "lines_to_next_cell": 0
   },
   "outputs": [],
   "source": [
    "plot_histogram(games_details)"
   ]
  },
  {
   "cell_type": "markdown",
   "metadata": {},
   "source": [
    "\n",
    "\n",
    "\n",
    "\n",
    "\n",
    "\n",
    "\n",
    "\n",
    "\n",
    "\n",
    "\n",
    "\n",
    "\n",
    "\n",
    "\n",
    "\n"
   ]
  }
 ],
 "metadata": {
  "jupytext": {
   "cell_metadata_filter": "-all",
   "main_language": "R",
   "notebook_metadata_filter": "-all"
  }
 },
 "nbformat": 4,
 "nbformat_minor": 4
}
